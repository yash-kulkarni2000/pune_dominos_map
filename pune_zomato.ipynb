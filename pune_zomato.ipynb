{
 "cells": [
  {
   "cell_type": "code",
   "execution_count": 1,
   "metadata": {},
   "outputs": [
    {
     "name": "stderr",
     "output_type": "stream",
     "text": [
      "C:\\Users\\ykulk\\anaconda3\\lib\\site-packages\\pandas\\core\\computation\\expressions.py:20: UserWarning: Pandas requires version '2.7.3' or newer of 'numexpr' (version '2.7.1' currently installed).\n",
      "  from pandas.core.computation.check import NUMEXPR_INSTALLED\n"
     ]
    }
   ],
   "source": [
    "import pandas as pd"
   ]
  },
  {
   "cell_type": "code",
   "execution_count": 2,
   "metadata": {},
   "outputs": [
    {
     "data": {
      "text/html": [
       "<div>\n",
       "<style scoped>\n",
       "    .dataframe tbody tr th:only-of-type {\n",
       "        vertical-align: middle;\n",
       "    }\n",
       "\n",
       "    .dataframe tbody tr th {\n",
       "        vertical-align: top;\n",
       "    }\n",
       "\n",
       "    .dataframe thead th {\n",
       "        text-align: right;\n",
       "    }\n",
       "</style>\n",
       "<table border=\"1\" class=\"dataframe\">\n",
       "  <thead>\n",
       "    <tr style=\"text-align: right;\">\n",
       "      <th></th>\n",
       "      <th>rest_name</th>\n",
       "      <th>locality</th>\n",
       "      <th>latitude</th>\n",
       "      <th>longitude</th>\n",
       "    </tr>\n",
       "  </thead>\n",
       "  <tbody>\n",
       "    <tr>\n",
       "      <th>0</th>\n",
       "      <td>Domino'sPizza</td>\n",
       "      <td>Aundh</td>\n",
       "      <td>18.5602</td>\n",
       "      <td>73.8031</td>\n",
       "    </tr>\n",
       "    <tr>\n",
       "      <th>1</th>\n",
       "      <td>Domino'sPizza</td>\n",
       "      <td>Baner</td>\n",
       "      <td>18.5590</td>\n",
       "      <td>73.7868</td>\n",
       "    </tr>\n",
       "    <tr>\n",
       "      <th>2</th>\n",
       "      <td>Domino'sPizza</td>\n",
       "      <td>Baner</td>\n",
       "      <td>18.5590</td>\n",
       "      <td>73.7868</td>\n",
       "    </tr>\n",
       "    <tr>\n",
       "      <th>3</th>\n",
       "      <td>Domino'sPizza</td>\n",
       "      <td>Bavdhan</td>\n",
       "      <td>18.5135</td>\n",
       "      <td>73.7699</td>\n",
       "    </tr>\n",
       "    <tr>\n",
       "      <th>4</th>\n",
       "      <td>Domino'sPizza</td>\n",
       "      <td>Bavdhan</td>\n",
       "      <td>18.5135</td>\n",
       "      <td>73.7699</td>\n",
       "    </tr>\n",
       "  </tbody>\n",
       "</table>\n",
       "</div>"
      ],
      "text/plain": [
       "       rest_name locality  latitude  longitude\n",
       "0  Domino'sPizza    Aundh   18.5602    73.8031\n",
       "1  Domino'sPizza    Baner   18.5590    73.7868\n",
       "2  Domino'sPizza    Baner   18.5590    73.7868\n",
       "3  Domino'sPizza  Bavdhan   18.5135    73.7699\n",
       "4  Domino'sPizza  Bavdhan   18.5135    73.7699"
      ]
     },
     "execution_count": 2,
     "metadata": {},
     "output_type": "execute_result"
    }
   ],
   "source": [
    "dominos = pd.read_csv(\"dominos_data.csv\")\n",
    "dominos.head()"
   ]
  },
  {
   "cell_type": "code",
   "execution_count": 3,
   "metadata": {},
   "outputs": [],
   "source": [
    "# import folium package\n",
    "import folium\n",
    " \n",
    "# Map method of folium return Map object\n",
    " \n",
    "# Here we pass coordinates of Gfg\n",
    "# and starting Zoom level = 12\n",
    "my_map1 = folium.Map(location = [18.5204, 73.8567],\n",
    "                                        zoom_start = 12 )\n",
    "\n",
    "# add marker one by one on the map\n",
    "for i in range(0,len(dominos)):\n",
    "   folium.Marker(location=[dominos.iloc[i]['latitude'], dominos.iloc[i]['longitude']],\n",
    "                 icon=folium.Icon()).add_to(my_map1)\n",
    " \n",
    "# save method of Map object will create a map\n",
    "my_map1.save(\"index.html\")"
   ]
  },
  {
   "cell_type": "markdown",
   "metadata": {},
   "source": [
    "Completed"
   ]
  }
 ],
 "metadata": {
  "kernelspec": {
   "display_name": "Python 3",
   "language": "python",
   "name": "python3"
  },
  "language_info": {
   "codemirror_mode": {
    "name": "ipython",
    "version": 3
   },
   "file_extension": ".py",
   "mimetype": "text/x-python",
   "name": "python",
   "nbconvert_exporter": "python",
   "pygments_lexer": "ipython3",
   "version": "3.8.3"
  }
 },
 "nbformat": 4,
 "nbformat_minor": 4
}
